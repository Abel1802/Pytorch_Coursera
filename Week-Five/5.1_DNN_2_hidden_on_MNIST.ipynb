{
 "cells": [
  {
   "cell_type": "markdown",
   "metadata": {},
   "source": [
    "# Deep Neural Network: On MNSIT"
   ]
  },
  {
   "cell_type": "markdown",
   "metadata": {},
   "source": [
    "## Contents"
   ]
  },
  {
   "cell_type": "markdown",
   "metadata": {},
   "source": [
    "1. Make soma data\n",
    "2. Build model\n",
    "3. Train the model"
   ]
  },
  {
   "cell_type": "code",
   "execution_count": 1,
   "metadata": {},
   "outputs": [],
   "source": [
    "# import libraries\n",
    "\n",
    "import torch\n",
    "import torch.nn as nn\n",
    "import torchvision.datasets as dsets\n",
    "import torchvision.transforms as transforms\n",
    "import matplotlib.pyplot as plt"
   ]
  },
  {
   "cell_type": "markdown",
   "metadata": {},
   "source": [
    "## 1. Make some data"
   ]
  },
  {
   "cell_type": "code",
   "execution_count": 2,
   "metadata": {},
   "outputs": [],
   "source": [
    "# Create dataset\n",
    "\n",
    "train_dataset = dsets.MNIST(root='../data/', train=True, download=True, transform=transforms.ToTensor())\n",
    "valid_dataset = dsets.MNIST(root='../data/', train=False, download=True, transform=transforms.ToTensor())"
   ]
  },
  {
   "cell_type": "code",
   "execution_count": 3,
   "metadata": {},
   "outputs": [],
   "source": [
    "# Create dataloader\n",
    "\n",
    "train_loader = torch.utils.data.DataLoader(dataset=train_dataset, batch_size=100, shuffle=True)\n",
    "valid_loader = torch.utils.data.DataLoader(dataset=valid_dataset, batch_size=100, shuffle=False)"
   ]
  },
  {
   "cell_type": "markdown",
   "metadata": {},
   "source": [
    "## 2. Build model"
   ]
  },
  {
   "cell_type": "code",
   "execution_count": 4,
   "metadata": {},
   "outputs": [],
   "source": [
    "# Define net class\n",
    "\n",
    "class Net(nn.Module):\n",
    "    \n",
    "    def __init__(self, D_in, H1, H2, D_out):\n",
    "        super(Net, self).__init__()\n",
    "        self.linear1 = nn.Linear(D_in, H1)\n",
    "        self.linear2 = nn.Linear(H1, H2)\n",
    "        self.linear3 = nn.Linear(H2, D_out)\n",
    "        \n",
    "    def forward(self, x):\n",
    "        x = torch.relu(self.linear1(x))\n",
    "        x = torch.relu(self.linear2(x))\n",
    "        x = self.linear3(x)\n",
    "        return x"
   ]
  },
  {
   "cell_type": "code",
   "execution_count": 5,
   "metadata": {},
   "outputs": [],
   "source": [
    "class Net_(nn.Module):\n",
    "    \n",
    "    def __init__(self, D_in, H, D_out):\n",
    "        super(Net_, self).__init__()\n",
    "        self.linear1 = nn.Linear(D_in, H)\n",
    "        self.linear2 = nn.Linear(H, D_out)\n",
    "        \n",
    "    def forward(self, x):\n",
    "        x = torch.relu(self.linear1(x))\n",
    "        x = self.linear2(x)\n",
    "        return x"
   ]
  },
  {
   "cell_type": "markdown",
   "metadata": {},
   "source": [
    "## 3. Train the model"
   ]
  },
  {
   "cell_type": "code",
   "execution_count": 6,
   "metadata": {},
   "outputs": [],
   "source": [
    "# Define Hipyparameters\n",
    "\n",
    "input_dim = 28 * 28\n",
    "hidden1_dim = 100\n",
    "hidden2_dim = 50\n",
    "output_dim = 10\n",
    "\n",
    "learning_rate = 0.01\n",
    "epochs = 30\n",
    "device = torch.device('cuda' if torch.cuda.is_available() else 'cpu')"
   ]
  },
  {
   "cell_type": "code",
   "execution_count": 7,
   "metadata": {},
   "outputs": [],
   "source": [
    "# Create criterion function\n",
    "\n",
    "criterion = nn.CrossEntropyLoss()"
   ]
  },
  {
   "cell_type": "code",
   "execution_count": 8,
   "metadata": {},
   "outputs": [],
   "source": [
    "# Create a model\n",
    "\n",
    "model = Net(input_dim, hidden1_dim, hidden2_dim, output_dim).to(device)\n",
    "\n",
    "# model = Net_(input_dim, hidden1_dim, output_dim).to(device)"
   ]
  },
  {
   "cell_type": "code",
   "execution_count": 9,
   "metadata": {},
   "outputs": [],
   "source": [
    "# Create optimizer\n",
    "\n",
    "optimizer = torch.optim.SGD(model.parameters(), lr=learning_rate)"
   ]
  },
  {
   "cell_type": "code",
   "execution_count": 10,
   "metadata": {},
   "outputs": [],
   "source": [
    "# define the train function\n",
    "\n",
    "def train(model, train_loader, valid_loader, criterion, optimizer, epochs=100):\n",
    "    \n",
    "    useful_stuff = {'training_loss': [], 'validating_accuracy': []}\n",
    "    # Loop\n",
    "    total_step = len(train_loader)\n",
    "    for epoch in range(epochs):\n",
    "        # Training\n",
    "        for i, (x, y) in enumerate(train_loader):\n",
    "            # move to GPU\n",
    "            x = x.view(-1, 28 * 28).to(device)\n",
    "            y = y.to(device)\n",
    "            yhat = model(x.view(-1, 28 * 28))\n",
    "            # forward pass\n",
    "            optimizer.zero_grad()\n",
    "            loss = criterion(yhat, y)\n",
    "            loss.backward()\n",
    "            # Backward and optimize\n",
    "            \n",
    "            optimizer.step()\n",
    "            # store training loss\n",
    "            useful_stuff['training_loss'].append(loss.data.item())\n",
    "            # print loss\n",
    "            if (i+1) % 100 == 0:\n",
    "                print('Epoch [{}/{}], Step [{}/{}], Loss: {:.4f}'.format(epoch+1, epochs, i, total_step, loss.item()))\n",
    "        \n",
    "        # Validating\n",
    "        for x, y in valid_loader:\n",
    "            correct = 0\n",
    "            total = 0\n",
    "            x = x.view(-1, 28 * 28).to(device)\n",
    "            y = y.to(device)\n",
    "            z = model(x)\n",
    "            _, label = torch.max(z, 1)\n",
    "            total += y.size(0)\n",
    "            correct += (label == y).sum().item()\n",
    "            accuracy = correct/total\n",
    "            useful_stuff['validating_accuracy'].append(accuracy)\n",
    "        print('Epoch [{}/{}], Accuracy: {:.4f}'.format(epoch+1, epochs, accuracy))\n",
    "            \n",
    "    return useful_stuff"
   ]
  },
  {
   "cell_type": "code",
   "execution_count": 14,
   "metadata": {},
   "outputs": [
    {
     "name": "stdout",
     "output_type": "stream",
     "text": [
      "Epoch [1/10], Step [99/600], Loss: 0.3293\n",
      "Epoch [1/10], Step [199/600], Loss: 0.3725\n",
      "Epoch [1/10], Step [299/600], Loss: 0.3599\n",
      "Epoch [1/10], Step [399/600], Loss: 0.2856\n",
      "Epoch [1/10], Step [499/600], Loss: 0.2629\n",
      "Epoch [1/10], Step [599/600], Loss: 0.3532\n",
      "Epoch [1/10], Accuracy: 0.8900\n",
      "Epoch [2/10], Step [99/600], Loss: 0.3868\n",
      "Epoch [2/10], Step [199/600], Loss: 0.4228\n",
      "Epoch [2/10], Step [299/600], Loss: 0.4901\n",
      "Epoch [2/10], Step [399/600], Loss: 0.3261\n",
      "Epoch [2/10], Step [499/600], Loss: 0.5712\n",
      "Epoch [2/10], Step [599/600], Loss: 0.1489\n",
      "Epoch [2/10], Accuracy: 0.8900\n",
      "Epoch [3/10], Step [99/600], Loss: 0.2227\n",
      "Epoch [3/10], Step [199/600], Loss: 0.2583\n",
      "Epoch [3/10], Step [299/600], Loss: 0.2446\n",
      "Epoch [3/10], Step [399/600], Loss: 0.2269\n",
      "Epoch [3/10], Step [499/600], Loss: 0.2546\n",
      "Epoch [3/10], Step [599/600], Loss: 0.3206\n",
      "Epoch [3/10], Accuracy: 0.9100\n",
      "Epoch [4/10], Step [99/600], Loss: 0.3620\n",
      "Epoch [4/10], Step [199/600], Loss: 0.3144\n",
      "Epoch [4/10], Step [299/600], Loss: 0.3250\n",
      "Epoch [4/10], Step [399/600], Loss: 0.4832\n",
      "Epoch [4/10], Step [499/600], Loss: 0.2919\n",
      "Epoch [4/10], Step [599/600], Loss: 0.2006\n",
      "Epoch [4/10], Accuracy: 0.9000\n",
      "Epoch [5/10], Step [99/600], Loss: 0.3851\n",
      "Epoch [5/10], Step [199/600], Loss: 0.2405\n",
      "Epoch [5/10], Step [299/600], Loss: 0.2868\n",
      "Epoch [5/10], Step [399/600], Loss: 0.2161\n",
      "Epoch [5/10], Step [499/600], Loss: 0.2564\n",
      "Epoch [5/10], Step [599/600], Loss: 0.2215\n",
      "Epoch [5/10], Accuracy: 0.9100\n",
      "Epoch [6/10], Step [99/600], Loss: 0.3531\n",
      "Epoch [6/10], Step [199/600], Loss: 0.2710\n",
      "Epoch [6/10], Step [299/600], Loss: 0.4031\n",
      "Epoch [6/10], Step [399/600], Loss: 0.2877\n",
      "Epoch [6/10], Step [499/600], Loss: 0.2358\n",
      "Epoch [6/10], Step [599/600], Loss: 0.2261\n",
      "Epoch [6/10], Accuracy: 0.9000\n",
      "Epoch [7/10], Step [99/600], Loss: 0.4032\n",
      "Epoch [7/10], Step [199/600], Loss: 0.2197\n",
      "Epoch [7/10], Step [299/600], Loss: 0.1693\n",
      "Epoch [7/10], Step [399/600], Loss: 0.2410\n",
      "Epoch [7/10], Step [499/600], Loss: 0.2771\n",
      "Epoch [7/10], Step [599/600], Loss: 0.2447\n",
      "Epoch [7/10], Accuracy: 0.9100\n",
      "Epoch [8/10], Step [99/600], Loss: 0.2729\n",
      "Epoch [8/10], Step [199/600], Loss: 0.1218\n",
      "Epoch [8/10], Step [299/600], Loss: 0.1983\n",
      "Epoch [8/10], Step [399/600], Loss: 0.2406\n",
      "Epoch [8/10], Step [499/600], Loss: 0.2926\n",
      "Epoch [8/10], Step [599/600], Loss: 0.1712\n",
      "Epoch [8/10], Accuracy: 0.9200\n",
      "Epoch [9/10], Step [99/600], Loss: 0.1916\n",
      "Epoch [9/10], Step [199/600], Loss: 0.1787\n",
      "Epoch [9/10], Step [299/600], Loss: 0.2417\n",
      "Epoch [9/10], Step [399/600], Loss: 0.1232\n",
      "Epoch [9/10], Step [499/600], Loss: 0.2311\n",
      "Epoch [9/10], Step [599/600], Loss: 0.3174\n",
      "Epoch [9/10], Accuracy: 0.9300\n",
      "Epoch [10/10], Step [99/600], Loss: 0.2430\n",
      "Epoch [10/10], Step [199/600], Loss: 0.2871\n",
      "Epoch [10/10], Step [299/600], Loss: 0.2757\n",
      "Epoch [10/10], Step [399/600], Loss: 0.1767\n",
      "Epoch [10/10], Step [499/600], Loss: 0.1928\n",
      "Epoch [10/10], Step [599/600], Loss: 0.2891\n",
      "Epoch [10/10], Accuracy: 0.9300\n"
     ]
    }
   ],
   "source": [
    "train_results = train(model, train_loader, valid_loader, criterion, optimizer, epochs=10)"
   ]
  },
  {
   "cell_type": "code",
   "execution_count": 15,
   "metadata": {},
   "outputs": [
    {
     "data": {
      "image/png": "[encoded data removed]",
      "text/plain": [
       "<Figure size 432x288 with 1 Axes>"
      ]
     },
     "metadata": {
      "needs_background": "light"
     },
     "output_type": "display_data"
    }
   ],
   "source": [
    "# plot the loss\n",
    "\n",
    "plt.plot(train_results['training_loss'])\n",
    "plt.title('Training loss')\n",
    "plt.show()"
   ]
  },
  {
   "cell_type": "code",
   "execution_count": 16,
   "metadata": {},
   "outputs": [
    {
     "data": {
      "image/png": "[encoded data removed]",
      "text/plain": [
       "<Figure size 432x288 with 1 Axes>"
      ]
     },
     "metadata": {
      "needs_background": "light"
     },
     "output_type": "display_data"
    }
   ],
   "source": [
    "# plot the accuracy\n",
    "\n",
    "plt.plot(train_results['validating_accuracy'])\n",
    "plt.title('Validating accuracy')\n",
    "plt.show()"
   ]
  },
  {
   "cell_type": "code",
   "execution_count": null,
   "metadata": {},
   "outputs": [],
   "source": []
  }
 ],
 "metadata": {
  "kernelspec": {
   "display_name": "Python 3",
   "language": "python",
   "name": "python3"
  },
  "language_info": {
   "codemirror_mode": {
    "name": "ipython",
    "version": 3
   },
   "file_extension": ".py",
   "mimetype": "text/x-python",
   "name": "python",
   "nbconvert_exporter": "python",
   "pygments_lexer": "ipython3",
   "version": "3.7.4"
  }
 },
 "nbformat": 4,
 "nbformat_minor": 4
}
