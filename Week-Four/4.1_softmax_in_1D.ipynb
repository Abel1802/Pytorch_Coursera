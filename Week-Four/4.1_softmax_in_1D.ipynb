{
 "cells": [
  {
   "cell_type": "markdown",
   "metadata": {},
   "source": [
    "# Softmax Classifier 1D"
   ]
  },
  {
   "cell_type": "markdown",
   "metadata": {},
   "source": [
    "## Contents"
   ]
  },
  {
   "cell_type": "markdown",
   "metadata": {},
   "source": [
    "1. Make some data\n",
    "2. Build softmax classifier\n",
    "3. Train the model\n",
    "4. Analyze the results"
   ]
  },
  {
   "cell_type": "code",
   "execution_count": 1,
   "metadata": {},
   "outputs": [
    {
     "data": {
      "text/plain": [
       "<torch._C.Generator at 0x7ff79c0a0690>"
      ]
     },
     "execution_count": 1,
     "metadata": {},
     "output_type": "execute_result"
    }
   ],
   "source": [
    "# import libraies\n",
    "\n",
    "import torch.nn as nn\n",
    "import torch\n",
    "import matplotlib.pyplot as plt \n",
    "import numpy as np\n",
    "from torch.utils.data import Dataset, DataLoader\n",
    "\n",
    "torch.manual_seed(1)"
   ]
  },
  {
   "cell_type": "markdown",
   "metadata": {},
   "source": [
    "## Make some data"
   ]
  },
  {
   "cell_type": "code",
   "execution_count": 2,
   "metadata": {},
   "outputs": [],
   "source": [
    "# Create dataset class\n",
    "\n",
    "class Data(Dataset):\n",
    "    \n",
    "    def __init__(self):\n",
    "        self.x = torch.arange(-1, 1, 0.1).view(-1, 1)\n",
    "        self.y = torch.zeros(self.x.shape[0])\n",
    "        self.y[self.x[:, 0] < -0.2] = 1\n",
    "        self.y[self.x[:, 0] > 0.2] = 2\n",
    "        self.y = self.y.type(torch.LongTensor)\n",
    "        self.len = self.x.shape[0]\n",
    "        \n",
    "    def __getitem__(self, index):\n",
    "        return self.x[index], self.y[index]\n",
    "    \n",
    "    def __len__(self):\n",
    "        return self.len"
   ]
  },
  {
   "cell_type": "code",
   "execution_count": 3,
   "metadata": {},
   "outputs": [
    {
     "data": {
      "text/plain": [
       "tensor([1, 1, 1, 1, 1, 1, 1, 1, 0, 0, 0, 0, 0, 2, 2, 2, 2, 2, 2, 2])"
      ]
     },
     "execution_count": 3,
     "metadata": {},
     "output_type": "execute_result"
    }
   ],
   "source": [
    "dataset = Data()\n",
    "dataset.y"
   ]
  },
  {
   "cell_type": "code",
   "execution_count": 4,
   "metadata": {},
   "outputs": [
    {
     "data": {
      "image/png": "[encoded data removed]",
      "text/plain": [
       "<Figure size 432x288 with 1 Axes>"
      ]
     },
     "metadata": {
      "needs_background": "light"
     },
     "output_type": "display_data"
    }
   ],
   "source": [
    "# plot the result \n",
    "\n",
    "plt.plot(dataset.x.numpy(), dataset.y.numpy())\n",
    "plt.xlabel('dataset.x')\n",
    "plt.ylabel('dataset.y')\n",
    "plt.show()"
   ]
  },
  {
   "cell_type": "markdown",
   "metadata": {},
   "source": [
    "## 2. Build softmax classifier"
   ]
  },
  {
   "cell_type": "code",
   "execution_count": 5,
   "metadata": {},
   "outputs": [
    {
     "data": {
      "text/plain": [
       "OrderedDict([('0.weight',\n",
       "              tensor([[ 0.5153],\n",
       "                      [-0.4414],\n",
       "                      [-0.1939]])),\n",
       "             ('0.bias', tensor([ 0.4694, -0.9414,  0.5997]))])"
      ]
     },
     "execution_count": 5,
     "metadata": {},
     "output_type": "execute_result"
    }
   ],
   "source": [
    "# only need nn.Linear\n",
    "\n",
    "model = nn.Sequential(nn.Linear(1, 3))\n",
    "model.state_dict()"
   ]
  },
  {
   "cell_type": "markdown",
   "metadata": {},
   "source": [
    "## 3. Train the model"
   ]
  },
  {
   "cell_type": "code",
   "execution_count": 6,
   "metadata": {},
   "outputs": [],
   "source": [
    "# Create criterion, optimizer, dataloader\n",
    "\n",
    "criterion = nn.CrossEntropyLoss()\n",
    "optimizer = torch.optim.SGD(model.parameters(), lr = 0.01)\n",
    "trainloader = DataLoader(dataset=dataset, batch_size=5)"
   ]
  },
  {
   "cell_type": "code",
   "execution_count": 7,
   "metadata": {},
   "outputs": [],
   "source": [
    "# Train the model\n",
    "\n",
    "LOSS = []\n",
    "\n",
    "def train_model(epochs):\n",
    "    \n",
    "    for epoch in range(epochs):\n",
    "        \n",
    "        tmp = 0\n",
    "        for x, y in trainloader:\n",
    "            optimizer.zero_grad()\n",
    "            yhat = model(x)\n",
    "            loss = criterion(yhat, y)\n",
    "            tmp += loss.item()\n",
    "            loss.backward()\n",
    "            optimizer.step()\n",
    "        LOSS.append(tmp)\n",
    "train_model(500)"
   ]
  },
  {
   "cell_type": "code",
   "execution_count": 8,
   "metadata": {},
   "outputs": [
    {
     "data": {
      "text/plain": [
       "[<matplotlib.lines.Line2D at 0x7ff7423a5190>]"
      ]
     },
     "execution_count": 8,
     "metadata": {},
     "output_type": "execute_result"
    },
    {
     "data": {
      "image/png": "[encoded data removed]",
      "text/plain": [
       "<Figure size 432x288 with 1 Axes>"
      ]
     },
     "metadata": {
      "needs_background": "light"
     },
     "output_type": "display_data"
    }
   ],
   "source": [
    "plt.plot(LOSS)"
   ]
  },
  {
   "cell_type": "markdown",
   "metadata": {},
   "source": [
    "## 4. Analyze the result"
   ]
  },
  {
   "cell_type": "code",
   "execution_count": 9,
   "metadata": {},
   "outputs": [
    {
     "name": "stdout",
     "output_type": "stream",
     "text": [
      "The prediction:  tensor([1, 1, 1, 1, 1, 1, 1, 1, 1, 1, 0, 2, 2, 2, 2, 2, 2, 2, 2, 2])\n"
     ]
    }
   ],
   "source": [
    "# make a prediction\n",
    "\n",
    "z = model(dataset.x)\n",
    "\n",
    "_, yhat = torch.max(z, 1)\n",
    "print(\"The prediction: \", yhat)"
   ]
  },
  {
   "cell_type": "code",
   "execution_count": 10,
   "metadata": {},
   "outputs": [
    {
     "name": "stdout",
     "output_type": "stream",
     "text": [
      "The accuracy： 0.8\n"
     ]
    }
   ],
   "source": [
    "# Print the accuracy\n",
    "\n",
    "corrent = (dataset.y == yhat).sum().item()\n",
    "accuracy = corrent / len(dataset)\n",
    "print(\"The accuracy：\", accuracy)"
   ]
  },
  {
   "cell_type": "code",
   "execution_count": 11,
   "metadata": {},
   "outputs": [],
   "source": [
    "# softmax function convert output to probability\n",
    "\n",
    "softmax_fn = nn.Softmax(dim=1) # dim=1 按行softmax； dim=0 按列进行softmax\n",
    "probability = softmax_fn(z)"
   ]
  },
  {
   "cell_type": "code",
   "execution_count": 12,
   "metadata": {},
   "outputs": [
    {
     "data": {
      "text/plain": [
       "tensor([[0.0741, 0.9156, 0.0103],\n",
       "        [0.0938, 0.8903, 0.0159],\n",
       "        [0.1178, 0.8581, 0.0242],\n",
       "        [0.1461, 0.8175, 0.0364],\n",
       "        [0.1786, 0.7674, 0.0540],\n",
       "        [0.2144, 0.7070, 0.0787],\n",
       "        [0.2514, 0.6367, 0.1119],\n",
       "        [0.2869, 0.5580, 0.1551],\n",
       "        [0.3176, 0.4741, 0.2083],\n",
       "        [0.3399, 0.3896, 0.2705],\n",
       "        [0.3513, 0.3093, 0.3394],\n",
       "        [0.3511, 0.2373, 0.4116],\n",
       "        [0.3399, 0.1764, 0.4837],\n",
       "        [0.3200, 0.1275, 0.5525],\n",
       "        [0.2940, 0.0899, 0.6161],\n",
       "        [0.2647, 0.0622, 0.6732],\n",
       "        [0.2343, 0.0423, 0.7234],\n",
       "        [0.2047, 0.0284, 0.7669],\n",
       "        [0.1769, 0.0188, 0.8043],\n",
       "        [0.1515, 0.0124, 0.8361]], grad_fn=<SoftmaxBackward>)"
      ]
     },
     "execution_count": 12,
     "metadata": {},
     "output_type": "execute_result"
    }
   ],
   "source": [
    "probability"
   ]
  }
 ],
 "metadata": {
  "kernelspec": {
   "display_name": "Python 3",
   "language": "python",
   "name": "python3"
  },
  "language_info": {
   "codemirror_mode": {
    "name": "ipython",
    "version": 3
   },
   "file_extension": ".py",
   "mimetype": "text/x-python",
   "name": "python",
   "nbconvert_exporter": "python",
   "pygments_lexer": "ipython3",
   "version": "3.7.4"
  }
 },
 "nbformat": 4,
 "nbformat_minor": 4
}
