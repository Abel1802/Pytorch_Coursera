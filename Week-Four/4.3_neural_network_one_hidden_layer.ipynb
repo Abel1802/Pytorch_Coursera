{
 "cells": [
  {
   "cell_type": "markdown",
   "metadata": {},
   "source": [
    "# Neural Network: One Hidden Layer"
   ]
  },
  {
   "cell_type": "markdown",
   "metadata": {},
   "source": [
    "## Contents"
   ]
  },
  {
   "cell_type": "markdown",
   "metadata": {},
   "source": [
    "1. Make some data\n",
    "2. Neural network module\n",
    "3. Train the model"
   ]
  },
  {
   "cell_type": "code",
   "execution_count": 1,
   "metadata": {},
   "outputs": [
    {
     "data": {
      "text/plain": [
       "<torch._C.Generator at 0x7f42f4190670>"
      ]
     },
     "execution_count": 1,
     "metadata": {},
     "output_type": "execute_result"
    }
   ],
   "source": [
    "# imoprt libraries\n",
    "\n",
    "import torch \n",
    "import torch.nn as nn\n",
    "from torch.utils.data import Dataset, DataLoader\n",
    "from torch import sigmoid\n",
    "import matplotlib.pylab as plt\n",
    "import numpy as np\n",
    "torch.manual_seed(0)"
   ]
  },
  {
   "cell_type": "code",
   "execution_count": 2,
   "metadata": {},
   "outputs": [],
   "source": [
    "# The function for plotting the model\n",
    "\n",
    "def PlotStuff(X, Y, model, epoch, leg=True):\n",
    "    \n",
    "    plt.plot(X.numpy(), model(X).detach().numpy(), label=('epoch ' + str(epoch)))\n",
    "    plt.plot(X.numpy(), Y.numpy(), 'r')\n",
    "    plt.xlabel('x')\n",
    "    if leg == True:\n",
    "        plt.legend()\n",
    "    else:\n",
    "        pass"
   ]
  },
  {
   "cell_type": "markdown",
   "metadata": {},
   "source": [
    "## 1. Make some data"
   ]
  },
  {
   "cell_type": "code",
   "execution_count": 3,
   "metadata": {},
   "outputs": [],
   "source": [
    "# Create dataset class\n",
    "\n",
    "class Data(Dataset):\n",
    "    \n",
    "    def __init__(self):\n",
    "        self.x = torch.arange(-20, 20, 1).view(-1, 1).type(torch.FloatTensor)\n",
    "        self.y = torch.zeros(self.x.shape[0])\n",
    "        self.y[ (self.x[:, 0] > -4) & (self.x[:, 0] < 4)] = 1.0\n",
    "        self.len = self.x.shape[0]\n",
    "        \n",
    "    def __getitem__(self, index):\n",
    "        return self.x[index], self.y[index]\n",
    "    \n",
    "    def __len__(self):\n",
    "        return self.len"
   ]
  },
  {
   "cell_type": "code",
   "execution_count": 4,
   "metadata": {},
   "outputs": [],
   "source": [
    "# Create dataset\n",
    "\n",
    "dataset = Data()"
   ]
  },
  {
   "cell_type": "code",
   "execution_count": 5,
   "metadata": {},
   "outputs": [
    {
     "data": {
      "image/png": "[encoded data removed]",
      "text/plain": [
       "<Figure size 432x288 with 1 Axes>"
      ]
     },
     "metadata": {
      "needs_background": "light"
     },
     "output_type": "display_data"
    }
   ],
   "source": [
    "# plot the dataset\n",
    "\n",
    "plt.plot(dataset.x.numpy(), dataset.y.numpy())\n",
    "plt.xlabel('dataset.x')\n",
    "plt.ylabel('dataset.y')\n",
    "plt.show()"
   ]
  },
  {
   "cell_type": "markdown",
   "metadata": {},
   "source": [
    "## 2 .Neural network module"
   ]
  },
  {
   "cell_type": "code",
   "execution_count": 6,
   "metadata": {},
   "outputs": [],
   "source": [
    "# Define the net class\n",
    "\n",
    "class Net(nn.Module):\n",
    "    \n",
    "    def __init__(self, D_in, H, D_out):\n",
    "        super(Net, self).__init__()\n",
    "        self.linear1 = nn.Linear(D_in, H)\n",
    "        self.linear2 = nn.Linear(H, D_out)\n",
    "        \n",
    "    def forward(self, x):\n",
    "        z1 = self.linear1(x)\n",
    "        a1 = torch.sigmoid(z1)\n",
    "        z2 = self.linear2(a1)\n",
    "        out = torch.sigmoid(z2)\n",
    "        return out\n",
    "    "
   ]
  },
  {
   "cell_type": "code",
   "execution_count": 7,
   "metadata": {},
   "outputs": [],
   "source": [
    "# Define criterion, optimizer, dataloader, and High parameters\n",
    "\n",
    "D_in = 1\n",
    "H = 2\n",
    "D_out = 1\n",
    "BATCH_SIZE = 5\n",
    "learning_rate = 0.1\n",
    "\n",
    "model = Net(D_in, H, D_out)\n",
    "\n",
    "# criterion = nn.CrossEntropyLoss()\n",
    "criterion = nn.BCELoss()\n",
    "optimizer = torch.optim.SGD(model.parameters(), lr=learning_rate)\n",
    "trainloader = DataLoader(dataset=dataset, batch_size=BATCH_SIZE)"
   ]
  },
  {
   "cell_type": "markdown",
   "metadata": {},
   "source": [
    "## 3. Train the model"
   ]
  },
  {
   "cell_type": "code",
   "execution_count": 8,
   "metadata": {},
   "outputs": [
    {
     "name": "stderr",
     "output_type": "stream",
     "text": [
      "/disk2/lz/anaconda3/envs/tf/lib/python3.7/site-packages/torch/nn/functional.py:2016: UserWarning: Using a target size (torch.Size([5])) that is different to the input size (torch.Size([5, 1])) is deprecated. Please ensure they have the same size.\n",
      "  \"Please ensure they have the same size.\".format(target.size(), input.size()))\n"
     ]
    },
    {
     "name": "stdout",
     "output_type": "stream",
     "text": [
      "The epcoh: 0, loss: 5.300515532493591\n",
      "The epcoh: 5000, loss: 0.031695582321844995\n",
      "The epcoh: 10000, loss: 0.014013783191330731\n",
      "The epcoh: 15000, loss: 0.00879857235122472\n",
      "The epcoh: 20000, loss: 0.006357286431011744\n",
      "The epcoh: 25000, loss: 0.004955865413649008\n",
      "The epcoh: 30000, loss: 0.004050694034958724\n",
      "The epcoh: 35000, loss: 0.003417603045818396\n",
      "The epcoh: 40000, loss: 0.0029520287571358494\n",
      "The epcoh: 45000, loss: 0.0026000827056122944\n",
      "CPU time: -157.17377161979675\n"
     ]
    }
   ],
   "source": [
    "import time\n",
    "epochs = 50000\n",
    "\n",
    "def train_model(epochs):\n",
    "    \n",
    "    for epoch in range(epochs):\n",
    "        \n",
    "        total = 0\n",
    "        for x, y in trainloader:\n",
    "            \n",
    "            yhat = model(x)\n",
    "            optimizer.zero_grad()\n",
    "            loss = criterion(yhat, y)\n",
    "            loss.backward()\n",
    "            optimizer.step()\n",
    "            total += loss.sum().item()\n",
    "        \n",
    "        if epoch % 5000 == 0:\n",
    "            print(\"The epcoh: {}, loss: {}\".format(epoch, total))\n",
    "            \n",
    "            \n",
    "            \n",
    "start = time.time()\n",
    "train_model(epochs)\n",
    "end = time.time()\n",
    "print(\"CPU time:\", start - end)"
   ]
  },
  {
   "cell_type": "code",
   "execution_count": 9,
   "metadata": {},
   "outputs": [
    {
     "data": {
      "text/plain": [
       "tensor([[6.8306e-05],\n",
       "        [6.8306e-05],\n",
       "        [1.5358e-03],\n",
       "        [9.9976e-01],\n",
       "        [9.9974e-01],\n",
       "        [9.9747e-01],\n",
       "        [1.5574e-03],\n",
       "        [7.2053e-05],\n",
       "        [7.2052e-05]], grad_fn=<SigmoidBackward>)"
      ]
     },
     "execution_count": 9,
     "metadata": {},
     "output_type": "execute_result"
    }
   ],
   "source": [
    "# Make a prediction\n",
    "\n",
    "X_ = torch.tensor([[-18.0], [-8.0], [-4.0], [0.0], [2.0], [3.0], [4.0], [8.0], [18.0]]) # y[ -0.4 < < 0.4] = 1 else = 0\n",
    "Yhat = model(X_)\n",
    "Yhat"
   ]
  },
  {
   "cell_type": "code",
   "execution_count": 10,
   "metadata": {},
   "outputs": [
    {
     "name": "stdout",
     "output_type": "stream",
     "text": [
      "The epcoh: 0, loss: 0.0023165707898442633\n",
      "The epcoh: 5000, loss: 0.0020904022167087533\n",
      "The epcoh: 10000, loss: 0.001906472236441914\n",
      "The epcoh: 15000, loss: 0.0017482668954471592\n",
      "The epcoh: 20000, loss: 0.0016091838660940994\n",
      "The epcoh: 25000, loss: 0.0014955532096792012\n",
      "The epcoh: 30000, loss: 0.001401405064825667\n",
      "The epcoh: 35000, loss: 0.001316329711698927\n",
      "The epcoh: 40000, loss: 0.0012382874010654632\n",
      "The epcoh: 45000, loss: 0.0011683637349051423\n",
      "GUP time: -419.5423107147217\n"
     ]
    }
   ],
   "source": [
    "# To GPU\n",
    "\n",
    "\n",
    "cuda = torch.cuda.is_available()\n",
    "if cuda:\n",
    "    model = model.cuda()\n",
    "    criterion = criterion.cuda()\n",
    "\n",
    "epochs = 50000\n",
    "\n",
    "def train_model(epochs):\n",
    "    \n",
    "    for epoch in range(epochs):\n",
    "        \n",
    "        total = 0\n",
    "        for x, y in trainloader:\n",
    "            if cuda:\n",
    "                x, y = x.cuda(), y.cuda()\n",
    "            yhat = model(x)\n",
    "            optimizer.zero_grad()\n",
    "            loss = criterion(yhat, y)\n",
    "            loss.backward()\n",
    "            optimizer.step()\n",
    "            total += loss.sum().item()\n",
    "        \n",
    "        if epoch % 5000 == 0:\n",
    "            print(\"The epcoh: {}, loss: {}\".format(epoch, total))\n",
    "\n",
    "\n",
    "start = time.time()\n",
    "train_model(epochs)\n",
    "end = time.time()\n",
    "print(\"GUP time:\", start - end)"
   ]
  }
 ],
 "metadata": {
  "kernelspec": {
   "display_name": "Python 3",
   "language": "python",
   "name": "python3"
  },
  "language_info": {
   "codemirror_mode": {
    "name": "ipython",
    "version": 3
   },
   "file_extension": ".py",
   "mimetype": "text/x-python",
   "name": "python",
   "nbconvert_exporter": "python",
   "pygments_lexer": "ipython3",
   "version": "3.7.4"
  }
 },
 "nbformat": 4,
 "nbformat_minor": 4
}
